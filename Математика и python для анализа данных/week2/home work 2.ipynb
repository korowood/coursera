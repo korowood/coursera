{
 "cells": [
  {
   "cell_type": "markdown",
   "metadata": {},
   "source": [
    "## Задача 1: сравнение предложений"
   ]
  },
  {
   "cell_type": "code",
   "execution_count": 118,
   "metadata": {},
   "outputs": [],
   "source": [
    "import re\n",
    "import numpy as np\n",
    "import matplotlib.pyplot as plt\n",
    "from scipy import linalg"
   ]
  },
  {
   "cell_type": "code",
   "execution_count": 37,
   "metadata": {},
   "outputs": [],
   "source": [
    "file = open('sentences.txt',\"r\", encoding=\"utf8\")"
   ]
  },
  {
   "cell_type": "code",
   "execution_count": 40,
   "metadata": {},
   "outputs": [],
   "source": [
    "result=[]\n",
    "for line in file:\n",
    "    line.lower()\n",
    "    result += (re.split('[^a-z]', line))"
   ]
  },
  {
   "cell_type": "code",
   "execution_count": 62,
   "metadata": {},
   "outputs": [],
   "source": [
    "result = list(filter(None, result))\n",
    "file.close()"
   ]
  },
  {
   "cell_type": "code",
   "execution_count": 44,
   "metadata": {},
   "outputs": [
    {
     "name": "stdout",
     "output_type": "stream",
     "text": [
      "['s', 'cat', 'simply', 'catenates', 'streams', 'of', 'bytes', 'it', 'can', 'be', 'also', 'used', 'to', 'concatenate', 'binary', 'files', 'where', 'it', 'will', 'just', 'concatenate', 'sequence', 'of', 'bytes', 'common', 'interactive', 'use', 'of', 'cat', 'for', 'a', 'single', 'file', 'is', 'to', 'output', 'the', 'content', 'of', 'a', 'file', 'to', 'standard', 'output', 'ats', 'can', 'hear', 'sounds', 'too', 'faint', 'or', 'too', 'high', 'in', 'frequency', 'for', 'human', 'ears', 'such', 'as', 'those', 'made', 'by', 'mice', 'and', 'other', 'small', 'animals', 'n', 'one', 'people', 'deliberately', 'tamed', 'cats', 'in', 'a', 'process', 'of', 'artificial', 'selection', 'as', 'they', 'were', 'useful', 'predators', 'of', 'vermin', 'he', 'domesticated', 'cat', 'and', 'its', 'closest', 'wild', 'ancestor', 'are', 'both', 'diploid', 'organisms', 'that', 'possess', 'chromosomes', 'and', 'roughly', 'genes', 'omestic', 'cats', 'are', 'similar', 'in', 'size', 'to', 'the', 'other', 'members', 'of', 'the', 'genus', 'elis', 'typically', 'weighing', 'between', 'and', 'kg', 'and', 'lb', 'owever', 'if', 'the', 'output', 'is', 'piped', 'or', 'redirected', 'cat', 'is', 'unnecessary', 'cat', 'with', 'one', 'named', 'file', 'is', 'safer', 'where', 'human', 'error', 'is', 'a', 'concern', 'one', 'wrong', 'use', 'of', 'the', 'default', 'redirection', 'symbol', 'instead', 'of', 'often', 'adjacent', 'on', 'keyboards', 'may', 'permanently', 'delete', 'the', 'file', 'you', 'were', 'just', 'needing', 'to', 'read', 'n', 'terms', 'of', 'legibility', 'a', 'sequence', 'of', 'commands', 'starting', 'with', 'cat', 'and', 'connected', 'by', 'pipes', 'has', 'a', 'clear', 'left', 'to', 'right', 'flow', 'of', 'information', 'at', 'command', 'is', 'one', 'of', 'the', 'basic', 'commands', 'that', 'you', 'learned', 'when', 'you', 'started', 'in', 'the', 'nix', 'inux', 'world', 'sing', 'cat', 'command', 'the', 'lines', 'received', 'from', 'stdin', 'can', 'be', 'redirected', 'to', 'a', 'new', 'file', 'using', 'redirection', 'symbols', 'hen', 'you', 'type', 'simply', 'cat', 'command', 'without', 'any', 'arguments', 'it', 'just', 'receives', 'the', 'stdin', 'content', 'and', 'displays', 'it', 'in', 'the', 'stdout', 'eopard', 'was', 'released', 'on', 'ctober', 'as', 'the', 'successor', 'of', 'iger', 'version', 'and', 'is', 'available', 'in', 'two', 'editions', 'ccording', 'to', 'pple', 'eopard', 'contains', 'over', 'changes', 'and', 'enhancements', 'over', 'its', 'predecessor', 'ac', 'iger', 's', 'of', 'id', 'some', 'pple', 'computers', 'have', 'firmware', 'factory', 'installed', 'which', 'will', 'no', 'longer', 'allow', 'installation', 'of', 'ac', 'eopard', 'ince', 'pple', 'moved', 'to', 'using', 'ntel', 'processors', 'in', 'their', 'computers', 'the', 'x', 'community', 'has', 'developed', 'and', 'now', 'also', 'allows', 'ac', 'iger', 'and', 'later', 'releases', 'to', 'be', 'installed', 'on', 'non', 'pple', 'x', 'based', 'computers', 'ountain', 'ion', 'was', 'released', 'on', 'uly', 'for', 'purchase', 'and', 'download', 'through', 'pple', 's', 'ac', 'pp', 'tore', 'as', 'part', 'of', 'a', 'switch', 'to', 'releasing', 'versions', 'online', 'and', 'every', 'year', 'pple', 'has', 'released', 'a', 'small', 'patch', 'for', 'the', 'three', 'most', 'recent', 'versions', 'of', 'afari', 'running', 'on', 'osemite', 'avericks', 'and', 'ountain', 'ion', 'he', 'ountain', 'ion', 'release', 'marks', 'the', 'second', 'time', 'pple', 'has', 'offered', 'an', 'incremental', 'upgrade', 'rather', 'than', 'releasing', 'a', 'new', 'cat', 'entirely', 'ac', 'ountain', 'ion', 'installs', 'in', 'place', 'so', 'you', 'won', 't', 'need', 'to', 'create', 'a', 'separate', 'disk', 'or', 'run', 'the', 'installation', 'off', 'an', 'external', 'drive', 'he', 'fifth', 'major', 'update', 'to', 'ac', 'eopard', 'contains', 'such', 'a', 'mountain', 'of', 'features', 'more', 'than', 'by', 'pple', 's', 'count']\n"
     ]
    }
   ],
   "source": [
    "print(result)"
   ]
  },
  {
   "cell_type": "code",
   "execution_count": 45,
   "metadata": {},
   "outputs": [],
   "source": [
    "myset = set(result)\n",
    "mylist = list(myset)\n",
    "mydict = {}"
   ]
  },
  {
   "cell_type": "code",
   "execution_count": 46,
   "metadata": {},
   "outputs": [],
   "source": [
    "for i in range(len(mylist)):\n",
    "    mydict[i] = mylist[i]\n"
   ]
  },
  {
   "cell_type": "code",
   "execution_count": 47,
   "metadata": {},
   "outputs": [
    {
     "name": "stdout",
     "output_type": "stream",
     "text": [
      "{0: 'by', 1: 'typically', 2: 'online', 3: 'afari', 4: 'installs', 5: 'run', 6: 'have', 7: 'of', 8: 'has', 9: 'standard', 10: 'marks', 11: 'incremental', 12: 'clear', 13: 'used', 14: 'small', 15: 'process', 16: 'ccording', 17: 'delete', 18: 'some', 19: 'genes', 20: 'basic', 21: 'those', 22: 'files', 23: 'non', 24: 'diploid', 25: 'named', 26: 'pp', 27: 'installation', 28: 'mountain', 29: 'for', 30: 'no', 31: 'with', 32: 'symbol', 33: 'may', 34: 'roughly', 35: 'patch', 36: 'major', 37: 'genus', 38: 'symbols', 39: 'than', 40: 'using', 41: 'tore', 42: 'off', 43: 'predecessor', 44: 'from', 45: 's', 46: 'instead', 47: 't', 48: 'binary', 49: 'displays', 50: 'elis', 51: 'two', 52: 'as', 53: 'the', 54: 'members', 55: 'was', 56: 'moved', 57: 'allow', 58: 'their', 59: 'possess', 60: 'predators', 61: 'type', 62: 'just', 63: 'deliberately', 64: 'where', 65: 'redirection', 66: 'mice', 67: 'ats', 68: 'ion', 69: 'separate', 70: 'concatenate', 71: 'disk', 72: 'received', 73: 'can', 74: 'terms', 75: 'kg', 76: 'running', 77: 'time', 78: 'sounds', 79: 'starting', 80: 'command', 81: 'nix', 82: 'firmware', 83: 'ancestor', 84: 'they', 85: 'at', 86: 'on', 87: 'arguments', 88: 'osemite', 89: 'release', 90: 'in', 91: 'second', 92: 'information', 93: 'through', 94: 'wrong', 95: 'external', 96: 'cat', 97: 'use', 98: 'every', 99: 'weighing', 100: 'enhancements', 101: 'more', 102: 'bytes', 103: 'piped', 104: 'it', 105: 'other', 106: 'upgrade', 107: 'which', 108: 'eopard', 109: 'three', 110: 'permanently', 111: 'version', 112: 'new', 113: 'most', 114: 'contains', 115: 'drive', 116: 'started', 117: 'count', 118: 'create', 119: 'recent', 120: 'receives', 121: 'computers', 122: 'were', 123: 'ac', 124: 'commands', 125: 'available', 126: 'chromosomes', 127: 'read', 128: 'file', 129: 'content', 130: 'artificial', 131: 'vermin', 132: 'are', 133: 'without', 134: 'hen', 135: 'people', 136: 'sequence', 137: 'similar', 138: 'interactive', 139: 'developed', 140: 'a', 141: 'is', 142: 'its', 143: 'later', 144: 'needing', 145: 'tamed', 146: 'safer', 147: 'factory', 148: 'releases', 149: 'editions', 150: 'releasing', 151: 'omestic', 152: 'released', 153: 'selection', 154: 'iger', 155: 'processors', 156: 'organisms', 157: 'also', 158: 'lines', 159: 'offered', 160: 'frequency', 161: 'pple', 162: 'closest', 163: 'ears', 164: 'owever', 165: 'longer', 166: 'adjacent', 167: 'too', 168: 'an', 169: 'left', 170: 'download', 171: 'concern', 172: 'over', 173: 'wild', 174: 'x', 175: 'inux', 176: 'year', 177: 'won', 178: 'entirely', 179: 'place', 180: 'common', 181: 'legibility', 182: 'connected', 183: 'default', 184: 'successor', 185: 'redirected', 186: 'ntel', 187: 'uly', 188: 'size', 189: 'human', 190: 'world', 191: 'right', 192: 'made', 193: 'he', 194: 'high', 195: 'learned', 196: 'that', 197: 'you', 198: 'keyboards', 199: 'both', 200: 'flow', 201: 'error', 202: 'changes', 203: 'or', 204: 'versions', 205: 'rather', 206: 'animals', 207: 'single', 208: 'stdout', 209: 'community', 210: 'one', 211: 'between', 212: 'be', 213: 'any', 214: 'so', 215: 'purchase', 216: 'sing', 217: 'cats', 218: 'switch', 219: 'update', 220: 'id', 221: 'fifth', 222: 'catenates', 223: 'hear', 224: 'now', 225: 'streams', 226: 'ince', 227: 'features', 228: 'if', 229: 'lb', 230: 'ountain', 231: 'will', 232: 'stdin', 233: 'part', 234: 'faint', 235: 'simply', 236: 'installed', 237: 'output', 238: 'avericks', 239: 'n', 240: 'unnecessary', 241: 'ctober', 242: 'need', 243: 'useful', 244: 'often', 245: 'to', 246: 'pipes', 247: 'based', 248: 'allows', 249: 'domesticated', 250: 'such', 251: 'when', 252: 'and'}\n"
     ]
    }
   ],
   "source": [
    "print(mydict)"
   ]
  },
  {
   "cell_type": "code",
   "execution_count": 51,
   "metadata": {},
   "outputs": [
    {
     "name": "stdout",
     "output_type": "stream",
     "text": [
      "253\n"
     ]
    }
   ],
   "source": [
    "n = 22 #количество строк в тексте\n",
    "m = len(mydict) #количество разных слов в тексте\n"
   ]
  },
  {
   "cell_type": "code",
   "execution_count": 57,
   "metadata": {},
   "outputs": [],
   "source": [
    "x = np.zeros((n,m))"
   ]
  },
  {
   "cell_type": "code",
   "execution_count": 61,
   "metadata": {},
   "outputs": [
    {
     "data": {
      "text/plain": [
       "array([[0., 2., 0., ..., 0., 0., 0.],\n",
       "       [0., 0., 0., ..., 0., 0., 0.],\n",
       "       [0., 0., 0., ..., 0., 0., 0.],\n",
       "       ...,\n",
       "       [0., 0., 0., ..., 0., 0., 0.],\n",
       "       [0., 0., 0., ..., 0., 0., 0.],\n",
       "       [0., 0., 0., ..., 0., 0., 0.]])"
      ]
     },
     "execution_count": 61,
     "metadata": {},
     "output_type": "execute_result"
    }
   ],
   "source": [
    "x[0][1] = 2\n",
    "x"
   ]
  },
  {
   "cell_type": "code",
   "execution_count": 80,
   "metadata": {},
   "outputs": [],
   "source": [
    "with open('sentences.txt') as f:\n",
    "    lines = f.readlines()"
   ]
  },
  {
   "cell_type": "code",
   "execution_count": 82,
   "metadata": {},
   "outputs": [],
   "source": [
    "for k in range(n):\n",
    "    for g in range(m):\n",
    "        if mydict[g] in lines[k]:\n",
    "            x[k][g] +=1"
   ]
  },
  {
   "cell_type": "code",
   "execution_count": 107,
   "metadata": {},
   "outputs": [],
   "source": [
    "f.close()"
   ]
  },
  {
   "cell_type": "code",
   "execution_count": 84,
   "metadata": {},
   "outputs": [
    {
     "data": {
      "text/plain": [
       "array([[0., 2., 0., ..., 0., 0., 0.],\n",
       "       [1., 0., 0., ..., 0., 0., 0.],\n",
       "       [0., 0., 0., ..., 0., 0., 1.],\n",
       "       ...,\n",
       "       [0., 0., 0., ..., 0., 0., 0.],\n",
       "       [0., 0., 0., ..., 0., 0., 0.],\n",
       "       [1., 0., 0., ..., 1., 0., 0.]])"
      ]
     },
     "execution_count": 84,
     "metadata": {},
     "output_type": "execute_result"
    }
   ],
   "source": [
    "x #че то не очень похоже на правду"
   ]
  },
  {
   "cell_type": "code",
   "execution_count": 96,
   "metadata": {},
   "outputs": [],
   "source": [
    "import scipy.spatial.distance\n",
    "\n",
    "dists = []\n",
    "for row in x:\n",
    "    dists.append(scipy.spatial.distance.cosine(x[0,:], row))"
   ]
  },
  {
   "cell_type": "code",
   "execution_count": 99,
   "metadata": {},
   "outputs": [
    {
     "data": {
      "text/plain": [
       "[0.0,\n",
       " 0.6060807014208323,\n",
       " 0.4996808170756958,\n",
       " 0.5797696805070967,\n",
       " 0.44194766034617905,\n",
       " 0.5664257251227045,\n",
       " 0.43301825592969045,\n",
       " 0.5357616545573702,\n",
       " 0.5570907741133869,\n",
       " 0.6120950896988584,\n",
       " 0.5517241379310345,\n",
       " 0.5517241379310345,\n",
       " 0.5862068965517242,\n",
       " 0.5253555474654328,\n",
       " 0.5830460760316032,\n",
       " 0.5664257251227045,\n",
       " 0.5847726007313002,\n",
       " 0.6947187445636682,\n",
       " 0.6233411076553933,\n",
       " 0.6060807014208323,\n",
       " 0.5076008767760404,\n",
       " 0.5862068965517242]"
      ]
     },
     "execution_count": 99,
     "metadata": {},
     "output_type": "execute_result"
    }
   ],
   "source": [
    "dists"
   ]
  },
  {
   "cell_type": "code",
   "execution_count": 110,
   "metadata": {},
   "outputs": [],
   "source": [
    "with open(\"output.txt\", \"w\") as file_out:\n",
    "    file_out.write(\"6 4\") #наверно нужно было min[dists]\n",
    "file_out.close()"
   ]
  },
  {
   "cell_type": "code",
   "execution_count": 102,
   "metadata": {},
   "outputs": [
    {
     "data": {
      "text/plain": [
       "'In comparison to dogs, cats have not undergone major changes during the domestication process.\\n'"
      ]
     },
     "execution_count": 102,
     "metadata": {},
     "output_type": "execute_result"
    }
   ],
   "source": [
    "lines[0]"
   ]
  },
  {
   "cell_type": "code",
   "execution_count": 106,
   "metadata": {},
   "outputs": [
    {
     "data": {
      "text/plain": [
       "'Domestic cats are similar in size to the other members of the genus Felis, typically weighing between 4 and 5 kg (8.8 and 11.0 lb).\\n'"
      ]
     },
     "execution_count": 106,
     "metadata": {},
     "output_type": "execute_result"
    }
   ],
   "source": [
    "lines[6]"
   ]
  },
  {
   "cell_type": "markdown",
   "metadata": {},
   "source": [
    "Не очень похоже"
   ]
  },
  {
   "cell_type": "markdown",
   "metadata": {},
   "source": [
    "## Задание 2"
   ]
  },
  {
   "cell_type": "code",
   "execution_count": 2,
   "metadata": {},
   "outputs": [],
   "source": [
    "def f(x): # наша функция\n",
    "    return np.sin(x / 5) * np.exp(x / 10) + 5 * np.exp(-x / 2)"
   ]
  },
  {
   "cell_type": "code",
   "execution_count": 1,
   "metadata": {},
   "outputs": [
    {
     "ename": "NameError",
     "evalue": "name 'np' is not defined",
     "output_type": "error",
     "traceback": [
      "\u001b[1;31m---------------------------------------------------------------------------\u001b[0m",
      "\u001b[1;31mNameError\u001b[0m                                 Traceback (most recent call last)",
      "\u001b[1;32m<ipython-input-1-824a9718bcea>\u001b[0m in \u001b[0;36m<module>\u001b[1;34m\u001b[0m\n\u001b[1;32m----> 1\u001b[1;33m \u001b[0mx\u001b[0m \u001b[1;33m=\u001b[0m \u001b[0mnp\u001b[0m\u001b[1;33m.\u001b[0m\u001b[0marange\u001b[0m\u001b[1;33m(\u001b[0m\u001b[1;36m1\u001b[0m\u001b[1;33m,\u001b[0m \u001b[1;36m30\u001b[0m\u001b[1;33m,\u001b[0m \u001b[1;36m1\u001b[0m\u001b[1;33m)\u001b[0m\u001b[1;33m\u001b[0m\u001b[1;33m\u001b[0m\u001b[0m\n\u001b[0m\u001b[0;32m      2\u001b[0m \u001b[0mplt\u001b[0m\u001b[1;33m.\u001b[0m\u001b[0mplot\u001b[0m\u001b[1;33m(\u001b[0m\u001b[0mx\u001b[0m\u001b[1;33m,\u001b[0m \u001b[0mf\u001b[0m\u001b[1;33m(\u001b[0m\u001b[0mx\u001b[0m\u001b[1;33m)\u001b[0m\u001b[1;33m)\u001b[0m\u001b[1;33m\u001b[0m\u001b[1;33m\u001b[0m\u001b[0m\n\u001b[0;32m      3\u001b[0m \u001b[0mplt\u001b[0m\u001b[1;33m.\u001b[0m\u001b[0mshow\u001b[0m\u001b[1;33m\u001b[0m\u001b[1;33m\u001b[0m\u001b[0m\n",
      "\u001b[1;31mNameError\u001b[0m: name 'np' is not defined"
     ]
    }
   ],
   "source": [
    "x = np.arange(0, 16, 1)\n",
    "plt.plot(x, f(x))\n",
    "plt.show"
   ]
  },
  {
   "cell_type": "markdown",
   "metadata": {},
   "source": [
    "### Этап 1"
   ]
  },
  {
   "cell_type": "code",
   "execution_count": 131,
   "metadata": {},
   "outputs": [],
   "source": [
    "x1 = 1\n",
    "x2 = 15\n",
    "A_2 = np.array([[1, x1],[1, x2]]) # матрица коефициентов для многочлена первой степени\n",
    "F_2 = np.array([f(x1), f(x2)]) # функция в точках х1 и х2"
   ]
  },
  {
   "cell_type": "code",
   "execution_count": 132,
   "metadata": {},
   "outputs": [],
   "source": [
    "ans = scipy.linalg.solve(A_2, F_2)\n"
   ]
  },
  {
   "cell_type": "code",
   "execution_count": 133,
   "metadata": {},
   "outputs": [
    {
     "data": {
      "text/plain": [
       "<function matplotlib.pyplot.show(*args, **kw)>"
      ]
     },
     "execution_count": 133,
     "metadata": {},
     "output_type": "execute_result"
    },
    {
     "data": {
      "image/png": "[encoded data removed]",
      "text/plain": [
       "<Figure size 432x288 with 1 Axes>"
      ]
     },
     "metadata": {
      "needs_background": "light"
     },
     "output_type": "display_data"
    }
   ],
   "source": [
    "plt.plot(x, ans[0] + ans[1]*x)\n",
    "plt.plot(x, f(x))\n",
    "plt.show"
   ]
  },
  {
   "cell_type": "markdown",
   "metadata": {},
   "source": [
    "Не очень похоже"
   ]
  },
  {
   "cell_type": "markdown",
   "metadata": {},
   "source": [
    "### Этап 2"
   ]
  },
  {
   "cell_type": "code",
   "execution_count": 134,
   "metadata": {},
   "outputs": [],
   "source": [
    "x1 = 1\n",
    "x2 = 8\n",
    "x3 = 15\n",
    "A_3 = np.array([[1, x1, x1**2],[1, x2, x2**2], [1, x3, x3**2]]) # матрица коефициентов для многочлена первой степени\n",
    "F_3 = np.array([f(x1), f(x2), f(x3)])"
   ]
  },
  {
   "cell_type": "code",
   "execution_count": 142,
   "metadata": {},
   "outputs": [],
   "source": [
    "ans2 = scipy.linalg.solve(A_3, F_3)\n"
   ]
  },
  {
   "cell_type": "code",
   "execution_count": 140,
   "metadata": {},
   "outputs": [
    {
     "data": {
      "text/plain": [
       "<function matplotlib.pyplot.show(*args, **kw)>"
      ]
     },
     "execution_count": 140,
     "metadata": {},
     "output_type": "execute_result"
    },
    {
     "data": {
      "image/png": "[encoded data removed]",
      "text/plain": [
       "<Figure size 432x288 with 1 Axes>"
      ]
     },
     "metadata": {
      "needs_background": "light"
     },
     "output_type": "display_data"
    }
   ],
   "source": [
    "plt.plot(x, ans2[0] + ans2[1]*x + ans2[2]*x**2)\n",
    "plt.plot(x, f(x))\n",
    "plt.show"
   ]
  },
  {
   "cell_type": "markdown",
   "metadata": {},
   "source": [
    "Тоже слабо похоже"
   ]
  },
  {
   "cell_type": "markdown",
   "metadata": {},
   "source": [
    "### Этап 3"
   ]
  },
  {
   "cell_type": "code",
   "execution_count": 143,
   "metadata": {},
   "outputs": [],
   "source": [
    "x1 = 1\n",
    "x2 = 4\n",
    "x3 = 10\n",
    "x4 = 15\n",
    "A_4 = np.array([[1, x1, x1**2, x1**3],[1, x2, x2**2, x2**3], [1, x3, x3**2, x3**3], [1, x4, x4**2, x4**3]]) # матрица коефициентов для многочлена первой степени\n",
    "F_4 = np.array([f(x1), f(x2), f(x3), f(x4)])"
   ]
  },
  {
   "cell_type": "code",
   "execution_count": 145,
   "metadata": {},
   "outputs": [],
   "source": [
    "ans3 = scipy.linalg.solve(A_4, F_4)"
   ]
  },
  {
   "cell_type": "code",
   "execution_count": 146,
   "metadata": {
    "scrolled": true
   },
   "outputs": [
    {
     "data": {
      "text/plain": [
       "<function matplotlib.pyplot.show(*args, **kw)>"
      ]
     },
     "execution_count": 146,
     "metadata": {},
     "output_type": "execute_result"
    },
    {
     "data": {
      "image/png": "[encoded data removed]",
      "text/plain": [
       "<Figure size 432x288 with 1 Axes>"
      ]
     },
     "metadata": {
      "needs_background": "light"
     },
     "output_type": "display_data"
    }
   ],
   "source": [
    "plt.plot(x, ans3[0] + ans3[1]*x + ans3[2]*x**2+ans3[3]*x**3)\n",
    "plt.plot(x, f(x))\n",
    "plt.show"
   ]
  },
  {
   "cell_type": "code",
   "execution_count": 193,
   "metadata": {},
   "outputs": [],
   "source": [
    "\n",
    "st = ''\n",
    "for _ in range(4):\n",
    "    st += str(round(ans3[_], 2)) +' '"
   ]
  },
  {
   "cell_type": "code",
   "execution_count": 194,
   "metadata": {},
   "outputs": [
    {
     "data": {
      "text/plain": [
       "'4.36 -1.3 0.19 -0.01 '"
      ]
     },
     "execution_count": 194,
     "metadata": {},
     "output_type": "execute_result"
    }
   ],
   "source": [
    "st"
   ]
  },
  {
   "cell_type": "code",
   "execution_count": 195,
   "metadata": {},
   "outputs": [],
   "source": [
    "with open(\"output2.txt\", \"w\") as file_out2:\n",
    "    file_out2.write(st)\n",
    "file_out2.close()"
   ]
  },
  {
   "cell_type": "code",
   "execution_count": null,
   "metadata": {},
   "outputs": [],
   "source": []
  },
  {
   "cell_type": "code",
   "execution_count": null,
   "metadata": {},
   "outputs": [],
   "source": []
  }
 ],
 "metadata": {
  "kernelspec": {
   "display_name": "Python 3",
   "language": "python",
   "name": "python3"
  },
  "language_info": {
   "codemirror_mode": {
    "name": "ipython",
    "version": 3
   },
   "file_extension": ".py",
   "mimetype": "text/x-python",
   "name": "python",
   "nbconvert_exporter": "python",
   "pygments_lexer": "ipython3",
   "version": "3.7.4"
  }
 },
 "nbformat": 4,
 "nbformat_minor": 4
}
