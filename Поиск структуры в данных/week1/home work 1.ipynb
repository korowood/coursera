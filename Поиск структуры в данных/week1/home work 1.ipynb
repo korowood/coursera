{
 "cells": [
  {
   "cell_type": "code",
   "execution_count": 2,
   "metadata": {},
   "outputs": [],
   "source": [
    "import pandas as pd"
   ]
  },
  {
   "cell_type": "code",
   "execution_count": 4,
   "metadata": {},
   "outputs": [],
   "source": [
    "data = pd.read_csv('checkins.dat', sep='|', header=0, skipinitialspace=True)\n",
    "data.dropna(inplace=True)"
   ]
  },
  {
   "cell_type": "code",
   "execution_count": 12,
   "metadata": {},
   "outputs": [
    {
     "data": {
      "text/plain": [
       "(396634, 6)"
      ]
     },
     "execution_count": 12,
     "metadata": {},
     "output_type": "execute_result"
    }
   ],
   "source": [
    "data.shape"
   ]
  },
  {
   "cell_type": "code",
   "execution_count": 24,
   "metadata": {},
   "outputs": [
    {
     "data": {
      "text/html": [
       "<div>\n",
       "<style scoped>\n",
       "    .dataframe tbody tr th:only-of-type {\n",
       "        vertical-align: middle;\n",
       "    }\n",
       "\n",
       "    .dataframe tbody tr th {\n",
       "        vertical-align: top;\n",
       "    }\n",
       "\n",
       "    .dataframe thead th {\n",
       "        text-align: right;\n",
       "    }\n",
       "</style>\n",
       "<table border=\"1\" class=\"dataframe\">\n",
       "  <thead>\n",
       "    <tr style=\"text-align: right;\">\n",
       "      <th></th>\n",
       "      <th>id</th>\n",
       "      <th>user_id</th>\n",
       "      <th>venue_id</th>\n",
       "      <th>latitude</th>\n",
       "      <th>longitude</th>\n",
       "      <th>created_at</th>\n",
       "    </tr>\n",
       "  </thead>\n",
       "  <tbody>\n",
       "    <tr>\n",
       "      <th>2</th>\n",
       "      <td>984222</td>\n",
       "      <td>15824.0</td>\n",
       "      <td>5222.0</td>\n",
       "      <td>38.895112</td>\n",
       "      <td>-77.036366</td>\n",
       "      <td>2012-04-21 17:43:47</td>\n",
       "    </tr>\n",
       "    <tr>\n",
       "      <th>4</th>\n",
       "      <td>984234</td>\n",
       "      <td>44652.0</td>\n",
       "      <td>5222.0</td>\n",
       "      <td>33.800745</td>\n",
       "      <td>-84.410520</td>\n",
       "      <td>2012-04-21 17:43:43</td>\n",
       "    </tr>\n",
       "    <tr>\n",
       "      <th>8</th>\n",
       "      <td>984291</td>\n",
       "      <td>105054.0</td>\n",
       "      <td>5222.0</td>\n",
       "      <td>45.523452</td>\n",
       "      <td>-122.676207</td>\n",
       "      <td>2012-04-21 17:39:22</td>\n",
       "    </tr>\n",
       "    <tr>\n",
       "      <th>10</th>\n",
       "      <td>984318</td>\n",
       "      <td>2146539.0</td>\n",
       "      <td>5222.0</td>\n",
       "      <td>40.764462</td>\n",
       "      <td>-111.904565</td>\n",
       "      <td>2012-04-21 17:35:46</td>\n",
       "    </tr>\n",
       "    <tr>\n",
       "      <th>11</th>\n",
       "      <td>984232</td>\n",
       "      <td>93870.0</td>\n",
       "      <td>380645.0</td>\n",
       "      <td>33.448377</td>\n",
       "      <td>-112.074037</td>\n",
       "      <td>2012-04-21 17:38:18</td>\n",
       "    </tr>\n",
       "  </tbody>\n",
       "</table>\n",
       "</div>"
      ],
      "text/plain": [
       "     id       user_id   venue_id   latitude        longitude       \\\n",
       "2   984222     15824.0     5222.0       38.895112      -77.036366   \n",
       "4   984234     44652.0     5222.0       33.800745      -84.410520   \n",
       "8   984291    105054.0     5222.0       45.523452     -122.676207   \n",
       "10  984318   2146539.0     5222.0       40.764462     -111.904565   \n",
       "11  984232     93870.0   380645.0       33.448377     -112.074037   \n",
       "\n",
       "       created_at        \n",
       "2   2012-04-21 17:43:47  \n",
       "4   2012-04-21 17:43:43  \n",
       "8   2012-04-21 17:39:22  \n",
       "10  2012-04-21 17:35:46  \n",
       "11  2012-04-21 17:38:18  "
      ]
     },
     "execution_count": 24,
     "metadata": {},
     "output_type": "execute_result"
    }
   ],
   "source": [
    "data.head()"
   ]
  },
  {
   "cell_type": "code",
   "execution_count": 50,
   "metadata": {},
   "outputs": [
    {
     "data": {
      "text/plain": [
       "array([[  38.8951118,  -77.0363658],\n",
       "       [  33.800745 ,  -84.41052  ],\n",
       "       [  45.5234515, -122.6762071],\n",
       "       ...,\n",
       "       [  42.7653662,  -71.467566 ],\n",
       "       [  42.439479 ,  -83.7438303],\n",
       "       [  42.331427 ,  -83.0457538]])"
      ]
     },
     "execution_count": 50,
     "metadata": {},
     "output_type": "execute_result"
    }
   ],
   "source": [
    "data.iloc[:, 3:5].values"
   ]
  },
  {
   "cell_type": "code",
   "execution_count": 56,
   "metadata": {},
   "outputs": [
    {
     "data": {
      "text/plain": [
       "(100000, 2)"
      ]
     },
     "execution_count": 56,
     "metadata": {},
     "output_type": "execute_result"
    }
   ],
   "source": [
    "k = 100000\n",
    "X = data.iloc[:k, 3:5].values\n",
    "X.shape"
   ]
  },
  {
   "cell_type": "code",
   "execution_count": 52,
   "metadata": {},
   "outputs": [],
   "source": [
    "from sklearn.cluster import MeanShift\n",
    "import numpy as np"
   ]
  },
  {
   "cell_type": "code",
   "execution_count": 57,
   "metadata": {},
   "outputs": [],
   "source": [
    "ms = MeanShift(bandwidth=0.1)\n",
    "model = ms.fit(X)"
   ]
  },
  {
   "cell_type": "code",
   "execution_count": 62,
   "metadata": {},
   "outputs": [],
   "source": [
    "import matplotlib.pyplot as plt\n",
    "from itertools import cycle"
   ]
  },
  {
   "cell_type": "code",
   "execution_count": 63,
   "metadata": {},
   "outputs": [
    {
     "name": "stdout",
     "output_type": "stream",
     "text": [
      "number of estimated clusters : 3231\n"
     ]
    }
   ],
   "source": [
    "labels = ms.labels_\n",
    "cluster_centers = ms.cluster_centers_\n",
    "labels_unique = np.unique(labels)\n",
    "n_clusters_ = len(labels_unique)\n",
    "\n",
    "print(\"number of estimated clusters : %d\" % n_clusters_)"
   ]
  },
  {
   "cell_type": "code",
   "execution_count": 97,
   "metadata": {},
   "outputs": [
    {
     "data": {
      "text/plain": [
       "592"
      ]
     },
     "execution_count": 97,
     "metadata": {},
     "output_type": "execute_result"
    }
   ],
   "source": [
    "val, counts = np.unique(labels, return_counts=True)\n",
    "\n",
    "labels_new = [l for l in val if counts[l] > 15]\n",
    "new_list_of_centres = cluster_centers[labels_new]\n",
    "len(new_list_of_centres)"
   ]
  },
  {
   "cell_type": "code",
   "execution_count": 101,
   "metadata": {},
   "outputs": [],
   "source": [
    "ccl = {'latitude' : [33.751277, 25.867736, 51.503016, 52.378894, 39.366487, -33.868457], \n",
    "      'longitude' : [-118.188740, -80.324116, -0.075479, 4.885084, 117.036146, 151.205134]}\n",
    "df_cruise = pd.DataFrame(ccl)\n",
    "\n",
    "carivalOffice = df_cruise.values\n"
   ]
  },
  {
   "cell_type": "code",
   "execution_count": 105,
   "metadata": {},
   "outputs": [
    {
     "data": {
      "text/plain": [
       "array([[  40.7177164 ,  -73.99183542],\n",
       "       [  33.44943805, -112.00213969],\n",
       "       [  33.44638027, -111.90188756],\n",
       "       ...,\n",
       "       [ -37.8229826 ,  145.1811902 ],\n",
       "       [ -41.2924945 ,  174.7732353 ],\n",
       "       [ -45.0311622 ,  168.6626435 ]])"
      ]
     },
     "execution_count": 105,
     "metadata": {},
     "output_type": "execute_result"
    }
   ],
   "source": [
    "cluster_centers"
   ]
  },
  {
   "cell_type": "code",
   "execution_count": 113,
   "metadata": {},
   "outputs": [
    {
     "name": "stdout",
     "output_type": "stream",
     "text": [
      "расстояние - 0.007834758163107856, координаты - [-33.86063043 151.20477593]\n",
      "расстояние - 0.009353316185992226, координаты - [52.37296399  4.89231722]\n",
      "расстояние - 0.022674066158385495, координаты - [ 25.84567226 -80.3188906 ]\n",
      "расстояние - 0.05005829482278787, координаты - [51.50299126 -0.12553729]\n",
      "расстояние - 0.07084773242719973, координаты - [  33.80987796 -118.14892381]\n",
      "расстояние - 0.13410903336184654, координаты - [ 25.78581242 -80.21793804]\n",
      "расстояние - 0.16740596425035326, координаты - [ 25.70534972 -80.28342874]\n",
      "расстояние - 0.18887596060185083, координаты - [ 26.01009825 -80.19999059]\n",
      "расстояние - 0.19577945647763628, координаты - [  33.88832534 -118.04892817]\n",
      "расстояние - 0.21181053682436798, координаты - [  33.87298601 -118.36209115]\n",
      "расстояние - 0.2222332907317907, координаты - [  33.97257482 -118.16837067]\n",
      "расстояние - 0.2713007595066735, координаты - [ 26.13884379 -80.33434684]\n",
      "расстояние - 0.2949788868004569, координаты - [  33.98393587 -118.00740497]\n",
      "расстояние - 0.3022701186924605, координаты - [ 26.12086266 -80.15890668]\n",
      "расстояние - 0.30473050307840693, координаты - [  33.81730643 -117.89124917]\n",
      "расстояние - 0.3148837903362732, координаты - [  34.06039755 -118.24870903]\n",
      "расстояние - 0.3388104702511318, координаты - [  33.67430266 -117.85878927]\n",
      "расстояние - 0.3408456533220572, координаты - [ 26.20058464 -80.25071613]\n",
      "расстояние - 0.37868750125029754, координаты - [  34.03548695 -118.43899772]\n",
      "расстояние - 0.3867062248427277, координаты - [  34.13146015 -118.11801181]\n"
     ]
    }
   ],
   "source": [
    "from numpy import linalg\n",
    "#ищем 20 кластерных центров наиболее близких к офисам\n",
    "result_dist = []\n",
    "countertmp = 0\n",
    "\n",
    "for tmp in cluster_centers:\n",
    "    if tmp in new_list_of_centres:\n",
    "        result_dist.append([countertmp, min(linalg.norm(carivalOffice - tmp, axis=1))])  \n",
    "    countertmp += 1\n",
    "# print(result_dist[:20])\n",
    "result_dist = sorted(result_dist, key=lambda distance: distance[1])\n",
    "# print(result_dist[:20])\n",
    "for tmp in result_dist[:20]:\n",
    "    print('расстояние - {}, координаты - {}'.format(tmp[1], cluster_centers[tmp[0]]))"
   ]
  },
  {
   "cell_type": "code",
   "execution_count": null,
   "metadata": {},
   "outputs": [],
   "source": []
  },
  {
   "cell_type": "code",
   "execution_count": null,
   "metadata": {},
   "outputs": [],
   "source": []
  }
 ],
 "metadata": {
  "kernelspec": {
   "display_name": "Python 3",
   "language": "python",
   "name": "python3"
  },
  "language_info": {
   "codemirror_mode": {
    "name": "ipython",
    "version": 3
   },
   "file_extension": ".py",
   "mimetype": "text/x-python",
   "name": "python",
   "nbconvert_exporter": "python",
   "pygments_lexer": "ipython3",
   "version": "3.7.4"
  }
 },
 "nbformat": 4,
 "nbformat_minor": 4
}
