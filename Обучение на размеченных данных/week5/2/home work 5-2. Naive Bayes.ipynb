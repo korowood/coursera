{
 "cells": [
  {
   "cell_type": "markdown",
   "metadata": {},
   "source": [
    "# Выбор семейства распределений в наивном байесе"
   ]
  },
  {
   "cell_type": "code",
   "execution_count": 1,
   "metadata": {},
   "outputs": [],
   "source": [
    "%matplotlib inline\n",
    "\n",
    "import numpy as np\n",
    "from sklearn.datasets import load_digits, load_breast_cancer\n",
    "from sklearn.model_selection import cross_val_score\n",
    "from sklearn.naive_bayes import BernoulliNB, MultinomialNB, GaussianNB"
   ]
  },
  {
   "cell_type": "code",
   "execution_count": 2,
   "metadata": {},
   "outputs": [],
   "source": [
    "#loading datasets\n",
    "digits = load_digits()\n",
    "X_dig = digits.data\n",
    "y_dig = digits.target\n",
    "\n",
    "breast_cancer = load_breast_cancer()\n",
    "X_br_can = breast_cancer.data\n",
    "y_br_can = breast_cancer.target"
   ]
  },
  {
   "cell_type": "code",
   "execution_count": 3,
   "metadata": {},
   "outputs": [
    {
     "name": "stdout",
     "output_type": "stream",
     "text": [
      "[ 0.  0.  0.  0. 12.  5.  0.  0.  0.  0.  0.  2. 16. 12.  0.  0.  0.  0.\n",
      "  1. 12. 16. 11.  0.  0.  0.  2. 12. 16. 16. 10.  0.  0.  0.  6. 11.  5.\n",
      " 15.  6.  0.  0.  0.  0.  0.  1. 16.  9.  0.  0.  0.  0.  0.  2. 16. 11.\n",
      "  0.  0.  0.  0.  0.  3. 16.  8.  0.  0.]\n"
     ]
    }
   ],
   "source": [
    "print(X_dig[42])"
   ]
  },
  {
   "cell_type": "code",
   "execution_count": 4,
   "metadata": {},
   "outputs": [
    {
     "name": "stdout",
     "output_type": "stream",
     "text": [
      "[1.907e+01 2.481e+01 1.283e+02 1.104e+03 9.081e-02 2.190e-01 2.107e-01\n",
      " 9.961e-02 2.310e-01 6.343e-02 9.811e-01 1.666e+00 8.830e+00 1.049e+02\n",
      " 6.548e-03 1.006e-01 9.723e-02 2.638e-02 5.333e-02 7.646e-03 2.409e+01\n",
      " 3.317e+01 1.774e+02 1.651e+03 1.247e-01 7.444e-01 7.242e-01 2.493e-01\n",
      " 4.670e-01 1.038e-01]\n"
     ]
    }
   ],
   "source": [
    "print(X_br_can[42])"
   ]
  },
  {
   "cell_type": "code",
   "execution_count": 5,
   "metadata": {},
   "outputs": [],
   "source": [
    "#Initializing Naive Bayes classifiers\n",
    "bnb = BernoulliNB()\n",
    "mnb = MultinomialNB()\n",
    "gnb = GaussianNB()"
   ]
  },
  {
   "cell_type": "code",
   "execution_count": 6,
   "metadata": {},
   "outputs": [],
   "source": [
    "#Cross-validation of classifiers\n",
    "score_bnb_dig = cross_val_score(bnb, X_dig, y_dig)\n",
    "score_bnb_br_can = cross_val_score(bnb, X_br_can, y_br_can)\n",
    "\n",
    "score_mnb_dig = cross_val_score(mnb, X_dig, y_dig)\n",
    "score_mnb_br_can = cross_val_score(mnb, X_br_can, y_br_can)\n",
    "\n",
    "score_gnb_dig = cross_val_score(gnb, X_dig, y_dig)\n",
    "score_gnb_br_can = cross_val_score(gnb, X_br_can, y_br_can)"
   ]
  },
  {
   "cell_type": "code",
   "execution_count": 7,
   "metadata": {},
   "outputs": [
    {
     "name": "stdout",
     "output_type": "stream",
     "text": [
      "Digits dataset\n",
      "BernoulliNB mean cross_val_score: 0.8241736304549674\n",
      "MultinomialNB mean cross_val_score: 0.8703497369235531\n",
      "GaussianNB mean cross_val_score: 0.8069281956050759\n"
     ]
    }
   ],
   "source": [
    "print('Digits dataset')\n",
    "print('BernoulliNB mean cross_val_score: ' + str(score_bnb_dig.mean()))\n",
    "print('MultinomialNB mean cross_val_score: ' + str(score_mnb_dig.mean()))\n",
    "print('GaussianNB mean cross_val_score: ' + str(score_gnb_dig.mean()))"
   ]
  },
  {
   "cell_type": "code",
   "execution_count": 8,
   "metadata": {},
   "outputs": [
    {
     "name": "stdout",
     "output_type": "stream",
     "text": [
      "Breast cancer dataset\n",
      "BernoulliNB mean cross_val_score: 0.6274181027790716\n",
      "MultinomialNB mean cross_val_score: 0.8963204471355379\n",
      "GaussianNB mean cross_val_score: 0.9385188635305075\n"
     ]
    }
   ],
   "source": [
    "print('Breast cancer dataset')\n",
    "print('BernoulliNB mean cross_val_score: ' + str(score_bnb_br_can.mean()))\n",
    "print('MultinomialNB mean cross_val_score: ' + str(score_mnb_br_can.mean()))\n",
    "print('GaussianNB mean cross_val_score: ' + str(score_gnb_br_can.mean()))"
   ]
  },
  {
   "cell_type": "code",
   "execution_count": 9,
   "metadata": {},
   "outputs": [],
   "source": [
    "with open('answer1.txt', 'w') as fout:\n",
    "    fout.write(str(np.max([score_bnb_br_can.mean(), score_mnb_br_can.mean(), score_gnb_br_can.mean()])))"
   ]
  },
  {
   "cell_type": "code",
   "execution_count": 10,
   "metadata": {},
   "outputs": [],
   "source": [
    "with open('answer2.txt', 'w') as fout:\n",
    "    fout.write(str(np.max([score_bnb_dig.mean(), score_mnb_dig.mean(), score_gnb_dig.mean()])))"
   ]
  },
  {
   "cell_type": "code",
   "execution_count": 11,
   "metadata": {},
   "outputs": [],
   "source": [
    "answer = '3' + ' ' + '4'\n",
    "with open('answer3.txt', 'w') as fout:\n",
    "    fout.write(answer)"
   ]
  },
  {
   "cell_type": "code",
   "execution_count": null,
   "metadata": {},
   "outputs": [],
   "source": []
  }
 ],
 "metadata": {
  "kernelspec": {
   "display_name": "Python 3",
   "language": "python",
   "name": "python3"
  },
  "language_info": {
   "codemirror_mode": {
    "name": "ipython",
    "version": 3
   },
   "file_extension": ".py",
   "mimetype": "text/x-python",
   "name": "python",
   "nbconvert_exporter": "python",
   "pygments_lexer": "ipython3",
   "version": "3.7.4"
  }
 },
 "nbformat": 4,
 "nbformat_minor": 4
}
