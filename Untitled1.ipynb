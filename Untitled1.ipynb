{
  "nbformat": 4,
  "nbformat_minor": 0,
  "metadata": {
    "colab": {
      "name": "Untitled1.ipynb",
      "provenance": [],
      "authorship_tag": "ABX9TyP7c6814gTgAPJ8UGTBlqsq",
      "include_colab_link": true
    },
    "kernelspec": {
      "name": "python3",
      "display_name": "Python 3"
    }
  },
  "cells": [
    {
      "cell_type": "markdown",
      "metadata": {
        "id": "view-in-github",
        "colab_type": "text"
      },
      "source": [
        "<a href=\"https://colab.research.google.com/github/korowood/vk-/blob/master/Untitled1.ipynb\" target=\"_parent\"><img src=\"https://colab.research.google.com/assets/colab-badge.svg\" alt=\"Open In Colab\"/></a>"
      ]
    },
    {
      "cell_type": "code",
      "metadata": {
        "id": "-zUa1j9Zw4IZ",
        "colab_type": "code",
        "colab": {}
      },
      "source": [
        ""
      ],
      "execution_count": null,
      "outputs": []
    },
    {
      "cell_type": "markdown",
      "metadata": {
        "id": "BIHF216yw4zS",
        "colab_type": "text"
      },
      "source": [
        "# Adversarial Music: Real World Audio Adversary\n",
        "#Against Wake-word Detection System\n"
      ]
    },
    {
      "cell_type": "markdown",
      "metadata": {
        "id": "jqL3YpfhxI-7",
        "colab_type": "text"
      },
      "source": [
        ""
      ]
    },
    {
      "cell_type": "code",
      "metadata": {
        "id": "KNSiGq3VyuIN",
        "colab_type": "code",
        "colab": {}
      },
      "source": [
        ""
      ],
      "execution_count": null,
      "outputs": []
    },
    {
      "cell_type": "markdown",
      "metadata": {
        "id": "SlCngs3Fx7Gj",
        "colab_type": "text"
      },
      "source": [
        "## Эксперимент\n"
      ]
    },
    {
      "cell_type": "markdown",
      "metadata": {
        "id": "DgHjrWSqyAtJ",
        "colab_type": "text"
      },
      "source": [
        "Данные.\n",
        "\n",
        "\n",
        "Было собрано около 100 сэмплов голосов, содержащих фразу \"Алекса\" от 10 людей. 4 мужских и 6 женских, причем 4 из них носители языка и для 6 англ не родной язык. От каждого человека по 10 фраз, которые отличались тоном и высотой голоса. К тому же были изменены для каждой из фраз скорость, темп и громкость речи, в итоге вышло 2000 сэмплов. Использовали набор данных LJ speech dataset для фонового шума и плохих примеров речи. \n",
        "\n",
        "\n"
      ]
    },
    {
      "cell_type": "markdown",
      "metadata": {
        "id": "KuJcJg0X0fIC",
        "colab_type": "text"
      },
      "source": [
        "Обучение и тестирование.\n",
        "\n"
      ]
    }
  ]
}